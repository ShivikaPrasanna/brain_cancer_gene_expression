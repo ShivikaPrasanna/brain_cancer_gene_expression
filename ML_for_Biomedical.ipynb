{
 "cells": [
  {
   "cell_type": "code",
   "execution_count": null,
   "id": "3a56016c",
   "metadata": {},
   "outputs": [],
   "source": [
    "import numpy as np\n",
    "import pandas as pd\n",
    "import math, os, pathlib\n",
    "import tensorflow as tf\n",
    "import pandas as pd\n",
    "import numpy as np\n",
    "import matplotlib.pyplot as plt\n",
    "from keras.layers import *\n",
    "from tensorflow.keras.preprocessing.image import ImageDataGenerator"
   ]
  },
  {
   "cell_type": "code",
   "execution_count": null,
   "id": "100817b9",
   "metadata": {},
   "outputs": [],
   "source": [
    "dfMerge = pd.read_csv('~/Downloads/Brain_GSE50161.csv')\n",
    "dfMerge"
   ]
  },
  {
   "cell_type": "code",
   "execution_count": null,
   "id": "f827a759",
   "metadata": {},
   "outputs": [],
   "source": [
    "dfMerge.info()"
   ]
  },
  {
   "cell_type": "code",
   "execution_count": null,
   "id": "d24d4bd7",
   "metadata": {},
   "outputs": [],
   "source": [
    "dfMerge.shape"
   ]
  },
  {
   "cell_type": "code",
   "execution_count": null,
   "id": "704b2528",
   "metadata": {},
   "outputs": [],
   "source": [
    "dfMerge.describe()"
   ]
  },
  {
   "cell_type": "code",
   "execution_count": null,
   "id": "302ab490",
   "metadata": {},
   "outputs": [],
   "source": [
    "dfMerge.type.unique()"
   ]
  },
  {
   "cell_type": "code",
   "execution_count": null,
   "id": "2b781d0f",
   "metadata": {},
   "outputs": [],
   "source": [
    "dfMerge['type'].value_counts()"
   ]
  },
  {
   "cell_type": "code",
   "execution_count": null,
   "id": "9659ed1e",
   "metadata": {},
   "outputs": [],
   "source": [
    "df_count = dfMerge['type'].value_counts()"
   ]
  },
  {
   "cell_type": "code",
   "execution_count": null,
   "id": "9252283c",
   "metadata": {},
   "outputs": [],
   "source": [
    "df_classes = pd.DataFrame({'classes':df_count.index, 'Frequency':df_count.values})"
   ]
  },
  {
   "cell_type": "code",
   "execution_count": null,
   "id": "c27e8707",
   "metadata": {},
   "outputs": [],
   "source": [
    "x_classes = df_classes['classes']\n",
    "y_Frequency = df_classes['Frequency']"
   ]
  },
  {
   "cell_type": "code",
   "execution_count": null,
   "id": "10c55be1",
   "metadata": {},
   "outputs": [],
   "source": [
    "plt.bar(x_classes, y_Frequency, color ='maroon',width = 0.9)\n",
    "plt.xlabel('classes')\n",
    "plt.ylabel('Frequency')\n",
    "plt.xticks(rotation=50)"
   ]
  },
  {
   "cell_type": "code",
   "execution_count": null,
   "id": "c3d8d05f",
   "metadata": {},
   "outputs": [],
   "source": [
    "fig, ax = plt.subplots()\n",
    "width = 0.9\n",
    "ind = np.arange(len(y_Frequency))\n",
    " \n",
    "ax.barh(x_classes, y_Frequency, width, color = \"maroon\")\n",
    " \n",
    "for i, v in enumerate(y_Frequency):\n",
    "    ax.text(v + 3, i + .25, str(v),\n",
    "            color = 'black', fontweight = 'bold')\n",
    "plt.xlabel('Frequency')\n",
    "plt.ylabel('Classes')\n",
    "plt.show()"
   ]
  },
  {
   "cell_type": "code",
   "execution_count": null,
   "id": "4a9b44d3",
   "metadata": {},
   "outputs": [],
   "source": [
    "plt.barh(x_classes, y_Frequency)\n",
    " \n",
    "for index, value in enumerate(y_Frequency):\n",
    "    plt.text(value, index,\n",
    "             str(value))\n",
    "\n",
    "plt.xlabel('Frequency')\n",
    "plt.ylabel('Classes')\n",
    "plt.show()"
   ]
  },
  {
   "cell_type": "code",
   "execution_count": null,
   "id": "a90edc45",
   "metadata": {},
   "outputs": [],
   "source": [
    "dfMerge.isnull().sum()"
   ]
  },
  {
   "cell_type": "code",
   "execution_count": null,
   "id": "f6cbf531",
   "metadata": {},
   "outputs": [],
   "source": [
    "dfMerge.columns"
   ]
  },
  {
   "cell_type": "code",
   "execution_count": null,
   "id": "47df7608",
   "metadata": {},
   "outputs": [],
   "source": [
    "dfMerge.type.unique()"
   ]
  },
  {
   "cell_type": "code",
   "execution_count": null,
   "id": "6586a64f",
   "metadata": {},
   "outputs": [],
   "source": [
    "Target = {k: v for k, v in zip(['ependymoma', 'glioblastoma', 'medulloblastoma', 'pilocytic_astrocytoma', 'normal'], list(range(len(['ependymoma', 'glioblastoma', 'medulloblastoma', 'pilocytic_astrocytoma', 'normal']))))}\n",
    "Target"
   ]
  },
  {
   "cell_type": "code",
   "execution_count": null,
   "id": "8ec2efb0",
   "metadata": {},
   "outputs": [],
   "source": [
    "for i in range(dfMerge.shape[0]):\n",
    "    dfMerge.iloc[i, 1] = Target[dfMerge.iloc[i, 1]]"
   ]
  },
  {
   "cell_type": "code",
   "execution_count": null,
   "id": "6d48adbe",
   "metadata": {},
   "outputs": [],
   "source": [
    "dfMerge"
   ]
  },
  {
   "cell_type": "code",
   "execution_count": null,
   "id": "3cecf030",
   "metadata": {},
   "outputs": [],
   "source": [
    "dfMerge['type'].value_counts()"
   ]
  },
  {
   "cell_type": "code",
   "execution_count": null,
   "id": "00c22ee7",
   "metadata": {},
   "outputs": [],
   "source": [
    "X = np.array(dfMerge.iloc[:, 2:])\n",
    "y = np.asarray(dfMerge.iloc[:, 1]).astype('int64')"
   ]
  },
  {
   "cell_type": "code",
   "execution_count": null,
   "id": "6d4731f4",
   "metadata": {},
   "outputs": [],
   "source": [
    "X.shape"
   ]
  },
  {
   "cell_type": "code",
   "execution_count": null,
   "id": "f7c554b3",
   "metadata": {},
   "outputs": [],
   "source": [
    "y.shape"
   ]
  },
  {
   "cell_type": "code",
   "execution_count": null,
   "id": "ed4ee367",
   "metadata": {},
   "outputs": [],
   "source": [
    "def GELU(x):\n",
    "    res = 0.5 * x * (1 + tf.nn.tanh(math.sqrt(2 / math.pi) * (x + 0.044715 * (x ** 3))))\n",
    "    return res\n",
    "\n",
    "\n",
    "class ResMLP(tf.keras.layers.Layer):\n",
    "    def __init__(self, units, activation, residual_path):\n",
    "        super(ResMLP, self).__init__()\n",
    "        self.residual_path = residual_path\n",
    "        self.D1 = Dense(units, activation=activation)\n",
    "        self.D2 = Dense(units, activation=activation)\n",
    "\n",
    "        if self.residual_path:\n",
    "            self.D3 = Dense(units)\n",
    "            self.D4 = Dense(units)\n",
    "\n",
    "    def call(self, inputs):\n",
    "        residual = inputs\n",
    "\n",
    "        x = self.D1(inputs)\n",
    "        y = self.D2(x)\n",
    "\n",
    "        if self.residual_path:\n",
    "            residual = self.D3(inputs)\n",
    "            residual = GELU(residual)\n",
    "            residual = self.D4(residual)\n",
    "            residual = GELU(residual)\n",
    "\n",
    "        output = y + residual\n",
    "        return output"
   ]
  },
  {
   "cell_type": "code",
   "execution_count": null,
   "id": "8823273a",
   "metadata": {},
   "outputs": [],
   "source": [
    "class NetWork(tf.keras.Model):\n",
    "    def __init__(self, initial_filters, block_list):\n",
    "        super(NetWork, self).__init__()\n",
    "        self.initial_filters = initial_filters\n",
    "        self.block_list = block_list\n",
    "\n",
    "        self.D1 = Dense(self.initial_filters, activation='relu')\n",
    "        self.B1 = BatchNormalization()\n",
    "\n",
    "        self.blocks = tf.keras.models.Sequential()\n",
    "        for block_id in range(len(block_list)):\n",
    "            for layer_id in range(block_list[block_id]):\n",
    "                if block_id != 0 and layer_id == 0:\n",
    "                    block = ResMLP(units=self.initial_filters, activation='relu', residual_path=True)\n",
    "                else:\n",
    "                    block = ResMLP(units=self.initial_filters, activation='relu', residual_path=False)\n",
    "                self.blocks.add(block)\n",
    "            self.initial_filters *= 2\n",
    "        self.D2 = Dense(5, activation='softmax')\n",
    "\n",
    "\n",
    "    def call(self, inputs):\n",
    "        x = self.D1(inputs)\n",
    "        x = self.B1(x)\n",
    "        x = self.blocks(x)\n",
    "        y = self.D2(x)\n",
    "        return y"
   ]
  },
  {
   "cell_type": "code",
   "execution_count": null,
   "id": "6185164f",
   "metadata": {},
   "outputs": [],
   "source": [
    "net = NetWork(initial_filters=1024, block_list=[3, 3, 3])\n",
    "\n",
    "net.compile(optimizer='adam',\n",
    "           loss=tf.keras.losses.SparseCategoricalCrossentropy(from_logits=False),\n",
    "           metrics=['sparse_categorical_accuracy'])\n",
    "\n",
    "checkpoint_save_path = './checkpoint/Baseline.ckpt'\n",
    "if os.path.exists(checkpoint_save_path + '.index'):\n",
    "    net.load_weights(checkpoint_save_path)\n",
    "\n",
    "cp_callback = tf.keras.callbacks.ModelCheckpoint(filepath=checkpoint_save_path, save_weights_only=True,\n",
    "                                                 save_best_only=True)\n",
    "\n",
    "history = net.fit(X, y, epochs=50, batch_size=16, callbacks=[cp_callback])\n",
    "\n",
    "net.summary()\n",
    "\n",
    "file = open('./weights.txt', 'w')\n",
    "for v in net.trainable_variables:\n",
    "    file.write(str(v.name) + '\\n')\n",
    "    file.write(str(v.shape) + '\\n')\n",
    "    file.write(str(v.numpy()) + '\\n')\n",
    "\n",
    "file.close()"
   ]
  },
  {
   "cell_type": "code",
   "execution_count": null,
   "id": "d23e7d3b",
   "metadata": {},
   "outputs": [],
   "source": [
    "acc = history.history['sparse_categorical_accuracy']\n",
    "loss = history.history['loss']\n",
    "\n",
    "plt.figure(figsize=(16, 8))\n",
    "plt.subplot(1, 2, 1)\n",
    "plt.plot(acc)\n",
    "plt.title('Training Acc')\n",
    "\n",
    "plt.subplot(1, 2, 2)\n",
    "plt.plot(loss)\n",
    "plt.title('Training Loss')\n",
    "\n",
    "plt.show()"
   ]
  },
  {
   "cell_type": "code",
   "execution_count": null,
   "id": "68ff42c5",
   "metadata": {},
   "outputs": [],
   "source": []
  }
 ],
 "metadata": {
  "kernelspec": {
   "display_name": "Python 3 (ipykernel)",
   "language": "python",
   "name": "python3"
  },
  "language_info": {
   "codemirror_mode": {
    "name": "ipython",
    "version": 3
   },
   "file_extension": ".py",
   "mimetype": "text/x-python",
   "name": "python",
   "nbconvert_exporter": "python",
   "pygments_lexer": "ipython3",
   "version": "3.9.16"
  }
 },
 "nbformat": 4,
 "nbformat_minor": 5
}
