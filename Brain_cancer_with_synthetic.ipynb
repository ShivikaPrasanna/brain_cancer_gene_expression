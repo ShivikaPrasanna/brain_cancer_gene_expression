{
  "nbformat": 4,
  "nbformat_minor": 0,
  "metadata": {
    "colab": {
      "provenance": [],
      "mount_file_id": "1GtTp4n4azcCkpNLUqvGP5ZQ87A3QIqpH",
      "authorship_tag": "ABX9TyOGuIRn6FAwZaU4V6OuvOl6",
      "include_colab_link": true
    },
    "kernelspec": {
      "name": "python3",
      "display_name": "Python 3"
    },
    "language_info": {
      "name": "python"
    }
  },
  "cells": [
    {
      "cell_type": "markdown",
      "metadata": {
        "id": "view-in-github",
        "colab_type": "text"
      },
      "source": [
        "<a href=\"https://colab.research.google.com/github/ShivikaPrasanna/brain_cancer_gene_expression/blob/main/Brain_cancer_with_synthetic.ipynb\" target=\"_parent\"><img src=\"https://colab.research.google.com/assets/colab-badge.svg\" alt=\"Open In Colab\"/></a>"
      ]
    },
    {
      "cell_type": "code",
      "source": [
        "!sudo pip install imbalanced-learn"
      ],
      "metadata": {
        "colab": {
          "base_uri": "https://localhost:8080/"
        },
        "id": "yYdrgaPIMpRP",
        "outputId": "b311720d-a5e5-494c-90bb-e39f70cc6a3e"
      },
      "execution_count": 100,
      "outputs": [
        {
          "output_type": "stream",
          "name": "stdout",
          "text": [
            "Looking in indexes: https://pypi.org/simple, https://us-python.pkg.dev/colab-wheels/public/simple/\n",
            "Requirement already satisfied: imbalanced-learn in /usr/local/lib/python3.10/dist-packages (0.10.1)\n",
            "Requirement already satisfied: threadpoolctl>=2.0.0 in /usr/local/lib/python3.10/dist-packages (from imbalanced-learn) (3.1.0)\n",
            "Requirement already satisfied: joblib>=1.1.1 in /usr/local/lib/python3.10/dist-packages (from imbalanced-learn) (1.2.0)\n",
            "Requirement already satisfied: scikit-learn>=1.0.2 in /usr/local/lib/python3.10/dist-packages (from imbalanced-learn) (1.2.2)\n",
            "Requirement already satisfied: numpy>=1.17.3 in /usr/local/lib/python3.10/dist-packages (from imbalanced-learn) (1.22.4)\n",
            "Requirement already satisfied: scipy>=1.3.2 in /usr/local/lib/python3.10/dist-packages (from imbalanced-learn) (1.10.1)\n"
          ]
        }
      ]
    },
    {
      "cell_type": "code",
      "source": [
        "from numpy.random import seed\n",
        "seed(42)\n",
        "import tensorflow\n",
        "tensorflow.random.set_seed(42)"
      ],
      "metadata": {
        "id": "C1thRDpuq1X1"
      },
      "execution_count": 99,
      "outputs": []
    },
    {
      "cell_type": "code",
      "execution_count": 101,
      "metadata": {
        "id": "tjyQ73z_tf3e"
      },
      "outputs": [],
      "source": [
        "import pandas as pd\n",
        "import numpy as np\n",
        "\n",
        "from sklearn.model_selection import train_test_split\n",
        "from sklearn.preprocessing import StandardScaler\n",
        "\n",
        "import tensorflow as tf\n",
        "from keras.models import Sequential\n",
        "from keras.layers import Dense\n",
        "\n",
        "from sklearn.model_selection import KFold, StratifiedKFold\n",
        "\n",
        "import imblearn\n",
        "from imblearn.over_sampling import SMOTE"
      ]
    },
    {
      "cell_type": "code",
      "source": [
        "# Load the data\n",
        "data = pd.read_csv(\"/content/drive/MyDrive/Colab Notebooks/Datasets/Brain_GSE50161.csv\")\n",
        "data.groupby('type')['type'].count()"
      ],
      "metadata": {
        "colab": {
          "base_uri": "https://localhost:8080/"
        },
        "id": "Uarn6bG8t_Jb",
        "outputId": "e3e7aed1-601d-480d-ac20-6d2fc42e3643"
      },
      "execution_count": 102,
      "outputs": [
        {
          "output_type": "execute_result",
          "data": {
            "text/plain": [
              "type\n",
              "ependymoma               46\n",
              "glioblastoma             34\n",
              "medulloblastoma          22\n",
              "normal                   13\n",
              "pilocytic_astrocytoma    15\n",
              "Name: type, dtype: int64"
            ]
          },
          "metadata": {},
          "execution_count": 102
        }
      ]
    },
    {
      "cell_type": "code",
      "source": [
        "df_class_pilocytic_astrocytoma = data[data['type'] == 'pilocytic_astrocytoma']\n",
        "df_class_normal = data[data['type'] == 'normal']\n",
        "data = data.append(df_class_pilocytic_astrocytoma)\n",
        "data = data.append(df_class_normal)\n",
        "data.groupby('type')['type'].count()"
      ],
      "metadata": {
        "id": "SP4FoTXltx_x",
        "colab": {
          "base_uri": "https://localhost:8080/"
        },
        "outputId": "343c8ee4-a4a5-40e7-ddf0-4aac3a534f8c"
      },
      "execution_count": 103,
      "outputs": [
        {
          "output_type": "stream",
          "name": "stderr",
          "text": [
            "<ipython-input-103-5b1a81a48be2>:3: FutureWarning:\n",
            "\n",
            "The frame.append method is deprecated and will be removed from pandas in a future version. Use pandas.concat instead.\n",
            "\n",
            "<ipython-input-103-5b1a81a48be2>:4: FutureWarning:\n",
            "\n",
            "The frame.append method is deprecated and will be removed from pandas in a future version. Use pandas.concat instead.\n",
            "\n"
          ]
        },
        {
          "output_type": "execute_result",
          "data": {
            "text/plain": [
              "type\n",
              "ependymoma               46\n",
              "glioblastoma             34\n",
              "medulloblastoma          22\n",
              "normal                   26\n",
              "pilocytic_astrocytoma    30\n",
              "Name: type, dtype: int64"
            ]
          },
          "metadata": {},
          "execution_count": 103
        }
      ]
    },
    {
      "cell_type": "code",
      "source": [
        "cancer_type_dict = {'ependymoma': 0, 'glioblastoma': 1, 'medulloblastoma': 2, 'pilocytic_astrocytoma': 3, 'normal': 4}\n",
        "data['mapped_type'] = data['type'].replace(cancer_type_dict)\n",
        "data.drop('type', axis=1, inplace=True)\n",
        "data['samples'].groupby(data['mapped_type']).count()\n",
        "labels = data.pop('mapped_type')"
      ],
      "metadata": {
        "id": "aKMsgYDiNx_W"
      },
      "execution_count": 104,
      "outputs": []
    },
    {
      "cell_type": "code",
      "source": [
        "# transform the dataset\n",
        "oversample = SMOTE()\n",
        "X, y = oversample.fit_resample(data, labels)"
      ],
      "metadata": {
        "id": "F-WhIZ3JL_tS"
      },
      "execution_count": 105,
      "outputs": []
    },
    {
      "cell_type": "code",
      "source": [
        "print(len(X))\n",
        "print(set(labels))\n",
        "data = X.to_numpy().astype(np.float32)\n",
        "labels = y.to_numpy().flatten().astype(np.float32)"
      ],
      "metadata": {
        "id": "iHtC7ONBuw4p",
        "colab": {
          "base_uri": "https://localhost:8080/"
        },
        "outputId": "220012b9-fed0-48aa-9785-73dd657b56fe"
      },
      "execution_count": 118,
      "outputs": [
        {
          "output_type": "stream",
          "name": "stdout",
          "text": [
            "230\n",
            "{0, 1, 2, 3, 4}\n"
          ]
        }
      ]
    },
    {
      "cell_type": "code",
      "source": [
        "# Split the data into training and test sets\n",
        "X_train, X_test, y_train, y_test = train_test_split(data, labels, test_size=0.1, random_state=42)\n",
        "\n",
        "# # Scale the data\n",
        "scaler = StandardScaler()\n",
        "X_train = scaler.fit_transform(X_train)\n",
        "X_test = scaler.transform(X_test)"
      ],
      "metadata": {
        "id": "DfQ88AWdvIRE"
      },
      "execution_count": 119,
      "outputs": []
    },
    {
      "cell_type": "code",
      "source": [
        "# Define the model architecture\n",
        "model = Sequential()\n",
        "model.add(Dense(8, activation='relu', input_dim=X_train.shape[1]))\n",
        "model.add(Dense(4, activation='relu'))\n",
        "model.add(Dense(4, activation='relu'))\n",
        "model.add(Dense(1, activation='sigmoid'))\n",
        "\n",
        "# Compile the model\n",
        "model.compile(loss='binary_crossentropy', optimizer='adam', metrics=['accuracy'])"
      ],
      "metadata": {
        "id": "vtAgA4pevKu4"
      },
      "execution_count": 120,
      "outputs": []
    },
    {
      "cell_type": "code",
      "source": [
        "earlyStopping = tf.keras.callbacks.EarlyStopping(monitor='loss', patience=10, verbose=0, mode='min', restore_best_weights=True)\n",
        "mcp_save = tf.keras.callbacks.ModelCheckpoint('my-model-{accuracy:.2f}.hdf5', save_best_only=True, monitor='accuracy', mode='max', verbose=1)\n",
        "reduce_lr_loss = tf.keras.callbacks.ReduceLROnPlateau(monitor='loss', factor=0.1, patience=7, verbose=1, mode='min')"
      ],
      "metadata": {
        "id": "7QgasjoKvNEM"
      },
      "execution_count": 121,
      "outputs": []
    },
    {
      "cell_type": "code",
      "source": [
        "model.summary()"
      ],
      "metadata": {
        "colab": {
          "base_uri": "https://localhost:8080/"
        },
        "id": "3Uy9T7KivOxn",
        "outputId": "0a80681f-4b6e-4c43-f2b9-abe72bc8c07c"
      },
      "execution_count": 122,
      "outputs": [
        {
          "output_type": "stream",
          "name": "stdout",
          "text": [
            "Model: \"sequential_8\"\n",
            "_________________________________________________________________\n",
            " Layer (type)                Output Shape              Param #   \n",
            "=================================================================\n",
            " dense_30 (Dense)            (None, 8)                 437416    \n",
            "                                                                 \n",
            " dense_31 (Dense)            (None, 4)                 36        \n",
            "                                                                 \n",
            " dense_32 (Dense)            (None, 4)                 20        \n",
            "                                                                 \n",
            " dense_33 (Dense)            (None, 1)                 5         \n",
            "                                                                 \n",
            "=================================================================\n",
            "Total params: 437,477\n",
            "Trainable params: 437,477\n",
            "Non-trainable params: 0\n",
            "_________________________________________________________________\n"
          ]
        }
      ]
    },
    {
      "cell_type": "code",
      "source": [
        "# Train the model\n",
        "history = model.fit(X_train, y_train,  epochs=50, batch_size=32)"
      ],
      "metadata": {
        "id": "i6GW13sgvP92",
        "colab": {
          "base_uri": "https://localhost:8080/"
        },
        "outputId": "ba5f673d-0067-4b66-bfa8-b08e551f5bf5"
      },
      "execution_count": 123,
      "outputs": [
        {
          "output_type": "stream",
          "name": "stdout",
          "text": [
            "Epoch 1/50\n",
            "7/7 [==============================] - 2s 23ms/step - loss: -12.6172 - accuracy: 0.2367\n",
            "Epoch 2/50\n",
            "7/7 [==============================] - 0s 24ms/step - loss: -66.9865 - accuracy: 0.2850\n",
            "Epoch 3/50\n",
            "7/7 [==============================] - 0s 21ms/step - loss: -151.5408 - accuracy: 0.2995\n",
            "Epoch 4/50\n",
            "7/7 [==============================] - 0s 21ms/step - loss: -259.7625 - accuracy: 0.2850\n",
            "Epoch 5/50\n",
            "7/7 [==============================] - 0s 24ms/step - loss: -378.0596 - accuracy: 0.2947\n",
            "Epoch 6/50\n",
            "7/7 [==============================] - 0s 21ms/step - loss: -528.4092 - accuracy: 0.2995\n",
            "Epoch 7/50\n",
            "7/7 [==============================] - 0s 21ms/step - loss: -691.0190 - accuracy: 0.2947\n",
            "Epoch 8/50\n",
            "7/7 [==============================] - 0s 23ms/step - loss: -905.1919 - accuracy: 0.3043\n",
            "Epoch 9/50\n",
            "7/7 [==============================] - 0s 21ms/step - loss: -1122.7581 - accuracy: 0.2947\n",
            "Epoch 10/50\n",
            "7/7 [==============================] - 0s 20ms/step - loss: -1389.1934 - accuracy: 0.2995\n",
            "Epoch 11/50\n",
            "7/7 [==============================] - 0s 20ms/step - loss: -1655.6925 - accuracy: 0.3092\n",
            "Epoch 12/50\n",
            "7/7 [==============================] - 0s 20ms/step - loss: -1968.2014 - accuracy: 0.3092\n",
            "Epoch 13/50\n",
            "7/7 [==============================] - 0s 20ms/step - loss: -2344.3037 - accuracy: 0.3092\n",
            "Epoch 14/50\n",
            "7/7 [==============================] - 0s 21ms/step - loss: -2722.4307 - accuracy: 0.3092\n",
            "Epoch 15/50\n",
            "7/7 [==============================] - 0s 22ms/step - loss: -3168.0654 - accuracy: 0.3092\n",
            "Epoch 16/50\n",
            "7/7 [==============================] - 0s 21ms/step - loss: -3637.5054 - accuracy: 0.3043\n",
            "Epoch 17/50\n",
            "7/7 [==============================] - 0s 20ms/step - loss: -4144.9863 - accuracy: 0.3237\n",
            "Epoch 18/50\n",
            "7/7 [==============================] - 0s 20ms/step - loss: -4745.3975 - accuracy: 0.3237\n",
            "Epoch 19/50\n",
            "7/7 [==============================] - 0s 20ms/step - loss: -5370.4429 - accuracy: 0.3237\n",
            "Epoch 20/50\n",
            "7/7 [==============================] - 0s 21ms/step - loss: -6071.9893 - accuracy: 0.3237\n",
            "Epoch 21/50\n",
            "7/7 [==============================] - 0s 22ms/step - loss: -6806.1655 - accuracy: 0.3237\n",
            "Epoch 22/50\n",
            "7/7 [==============================] - 0s 24ms/step - loss: -7616.0469 - accuracy: 0.3237\n",
            "Epoch 23/50\n",
            "7/7 [==============================] - 0s 21ms/step - loss: -8516.1953 - accuracy: 0.3285\n",
            "Epoch 24/50\n",
            "7/7 [==============================] - 0s 22ms/step - loss: -9518.0439 - accuracy: 0.3285\n",
            "Epoch 25/50\n",
            "7/7 [==============================] - 0s 22ms/step - loss: -10575.7891 - accuracy: 0.3285\n",
            "Epoch 26/50\n",
            "7/7 [==============================] - 0s 13ms/step - loss: -11652.7979 - accuracy: 0.3333\n",
            "Epoch 27/50\n",
            "7/7 [==============================] - 0s 14ms/step - loss: -12925.7949 - accuracy: 0.3382\n",
            "Epoch 28/50\n",
            "7/7 [==============================] - 0s 14ms/step - loss: -14222.2773 - accuracy: 0.3430\n",
            "Epoch 29/50\n",
            "7/7 [==============================] - 0s 14ms/step - loss: -15627.6904 - accuracy: 0.3430\n",
            "Epoch 30/50\n",
            "7/7 [==============================] - 0s 14ms/step - loss: -17239.2617 - accuracy: 0.3430\n",
            "Epoch 31/50\n",
            "7/7 [==============================] - 0s 13ms/step - loss: -18820.1621 - accuracy: 0.3382\n",
            "Epoch 32/50\n",
            "7/7 [==============================] - 0s 15ms/step - loss: -20584.8496 - accuracy: 0.3382\n",
            "Epoch 33/50\n",
            "7/7 [==============================] - 0s 13ms/step - loss: -22484.4258 - accuracy: 0.3382\n",
            "Epoch 34/50\n",
            "7/7 [==============================] - 0s 13ms/step - loss: -24602.6094 - accuracy: 0.3382\n",
            "Epoch 35/50\n",
            "7/7 [==============================] - 0s 14ms/step - loss: -26688.3027 - accuracy: 0.3430\n",
            "Epoch 36/50\n",
            "7/7 [==============================] - 0s 14ms/step - loss: -29051.8125 - accuracy: 0.3382\n",
            "Epoch 37/50\n",
            "7/7 [==============================] - 0s 14ms/step - loss: -31466.9199 - accuracy: 0.3430\n",
            "Epoch 38/50\n",
            "7/7 [==============================] - 0s 15ms/step - loss: -34056.5742 - accuracy: 0.3430\n",
            "Epoch 39/50\n",
            "7/7 [==============================] - 0s 16ms/step - loss: -36773.7422 - accuracy: 0.3382\n",
            "Epoch 40/50\n",
            "7/7 [==============================] - 0s 16ms/step - loss: -39633.8750 - accuracy: 0.3382\n",
            "Epoch 41/50\n",
            "7/7 [==============================] - 0s 14ms/step - loss: -42603.5977 - accuracy: 0.3430\n",
            "Epoch 42/50\n",
            "7/7 [==============================] - 0s 14ms/step - loss: -45923.4883 - accuracy: 0.3430\n",
            "Epoch 43/50\n",
            "7/7 [==============================] - 0s 13ms/step - loss: -49443.3203 - accuracy: 0.3382\n",
            "Epoch 44/50\n",
            "7/7 [==============================] - 0s 13ms/step - loss: -52976.6758 - accuracy: 0.3382\n",
            "Epoch 45/50\n",
            "7/7 [==============================] - 0s 14ms/step - loss: -57094.9766 - accuracy: 0.3285\n",
            "Epoch 46/50\n",
            "7/7 [==============================] - 0s 14ms/step - loss: -61170.1836 - accuracy: 0.3285\n",
            "Epoch 47/50\n",
            "7/7 [==============================] - 0s 13ms/step - loss: -65352.6953 - accuracy: 0.3333\n",
            "Epoch 48/50\n",
            "7/7 [==============================] - 0s 13ms/step - loss: -70027.5078 - accuracy: 0.3237\n",
            "Epoch 49/50\n",
            "7/7 [==============================] - 0s 16ms/step - loss: -74622.6094 - accuracy: 0.3333\n",
            "Epoch 50/50\n",
            "7/7 [==============================] - 0s 13ms/step - loss: -79556.3750 - accuracy: 0.3333\n"
          ]
        }
      ]
    },
    {
      "cell_type": "code",
      "source": [
        "import json\n",
        "with open('history.json', 'w') as f:\n",
        "    json.dump(history.history, f)"
      ],
      "metadata": {
        "id": "7DwHA5eBwK8B"
      },
      "execution_count": 124,
      "outputs": []
    },
    {
      "cell_type": "code",
      "source": [
        "import codecs\n",
        "obj_text = codecs.open('history.json', 'r', encoding='utf-8').read()\n",
        "hist = json.loads(obj_text)"
      ],
      "metadata": {
        "id": "0_prTGDTxC39"
      },
      "execution_count": 125,
      "outputs": []
    },
    {
      "cell_type": "code",
      "source": [
        "import plotly.graph_objects as go\n",
        "from plotly.subplots import make_subplots\n",
        "\n",
        "# Create figure with secondary y-axis\n",
        "fig = make_subplots(specs=[[{\"secondary_y\": True}]])\n",
        "\n",
        "fig.add_trace(\n",
        "    go.Scatter( y=hist['loss'], name=\"loss\"),\n",
        "    secondary_y=False,\n",
        ")\n",
        "\n",
        "fig.add_trace(\n",
        "    go.Scatter( y=hist['accuracy'], name=\"train accuracy\"),\n",
        "    secondary_y=True,\n",
        ")\n",
        "\n",
        "# Add figure title\n",
        "fig.update_layout(\n",
        "    title_text=\"Loss/Accuracy of Neural Network Model\"\n",
        ")\n",
        "\n",
        "# Set x-axis title\n",
        "fig.update_xaxes(title_text=\"Epoch\")"
      ],
      "metadata": {
        "colab": {
          "base_uri": "https://localhost:8080/",
          "height": 542
        },
        "id": "AhFQXwUPvSoN",
        "outputId": "f60e5431-ece1-4553-823b-613116a2cf23"
      },
      "execution_count": 126,
      "outputs": [
        {
          "output_type": "display_data",
          "data": {
            "text/html": [
              "<html>\n",
              "<head><meta charset=\"utf-8\" /></head>\n",
              "<body>\n",
              "    <div>            <script src=\"https://cdnjs.cloudflare.com/ajax/libs/mathjax/2.7.5/MathJax.js?config=TeX-AMS-MML_SVG\"></script><script type=\"text/javascript\">if (window.MathJax && window.MathJax.Hub && window.MathJax.Hub.Config) {window.MathJax.Hub.Config({SVG: {font: \"STIX-Web\"}});}</script>                <script type=\"text/javascript\">window.PlotlyConfig = {MathJaxConfig: 'local'};</script>\n",
              "        <script src=\"https://cdn.plot.ly/plotly-2.18.2.min.js\"></script>                <div id=\"b4d39a22-8575-4dd0-8038-54cfa744ed0e\" class=\"plotly-graph-div\" style=\"height:525px; width:100%;\"></div>            <script type=\"text/javascript\">                                    window.PLOTLYENV=window.PLOTLYENV || {};                                    if (document.getElementById(\"b4d39a22-8575-4dd0-8038-54cfa744ed0e\")) {                    Plotly.newPlot(                        \"b4d39a22-8575-4dd0-8038-54cfa744ed0e\",                        [{\"name\":\"loss\",\"y\":[-12.61716365814209,-66.98653411865234,-151.54075622558594,-259.762451171875,-378.05963134765625,-528.4091796875,-691.01904296875,-905.19189453125,-1122.758056640625,-1389.193359375,-1655.6925048828125,-1968.201416015625,-2344.3037109375,-2722.4306640625,-3168.0654296875,-3637.50537109375,-4144.986328125,-4745.3974609375,-5370.44287109375,-6071.9892578125,-6806.16552734375,-7616.046875,-8516.1953125,-9518.0439453125,-10575.7890625,-11652.7978515625,-12925.794921875,-14222.27734375,-15627.6904296875,-17239.26171875,-18820.162109375,-20584.849609375,-22484.42578125,-24602.609375,-26688.302734375,-29051.8125,-31466.919921875,-34056.57421875,-36773.7421875,-39633.875,-42603.59765625,-45923.48828125,-49443.3203125,-52976.67578125,-57094.9765625,-61170.18359375,-65352.6953125,-70027.5078125,-74622.609375,-79556.375],\"type\":\"scatter\",\"xaxis\":\"x\",\"yaxis\":\"y\"},{\"name\":\"train accuracy\",\"y\":[0.23671497404575348,0.28502416610717773,0.2995169162750244,0.28502416610717773,0.2946859896183014,0.2995169162750244,0.2946859896183014,0.30434781312942505,0.2946859896183014,0.2995169162750244,0.30917873978614807,0.30917873978614807,0.30917873978614807,0.30917873978614807,0.30917873978614807,0.30434781312942505,0.32367148995399475,0.32367148995399475,0.32367148995399475,0.32367148995399475,0.32367148995399475,0.32367148995399475,0.3285024166107178,0.3285024166107178,0.3285024166107178,0.3333333432674408,0.33816424012184143,0.34299516677856445,0.34299516677856445,0.34299516677856445,0.33816424012184143,0.33816424012184143,0.33816424012184143,0.33816424012184143,0.34299516677856445,0.33816424012184143,0.34299516677856445,0.34299516677856445,0.33816424012184143,0.33816424012184143,0.34299516677856445,0.34299516677856445,0.33816424012184143,0.33816424012184143,0.3285024166107178,0.3285024166107178,0.3333333432674408,0.32367148995399475,0.3333333432674408,0.3333333432674408],\"type\":\"scatter\",\"xaxis\":\"x\",\"yaxis\":\"y2\"}],                        {\"template\":{\"data\":{\"histogram2dcontour\":[{\"type\":\"histogram2dcontour\",\"colorbar\":{\"outlinewidth\":0,\"ticks\":\"\"},\"colorscale\":[[0.0,\"#0d0887\"],[0.1111111111111111,\"#46039f\"],[0.2222222222222222,\"#7201a8\"],[0.3333333333333333,\"#9c179e\"],[0.4444444444444444,\"#bd3786\"],[0.5555555555555556,\"#d8576b\"],[0.6666666666666666,\"#ed7953\"],[0.7777777777777778,\"#fb9f3a\"],[0.8888888888888888,\"#fdca26\"],[1.0,\"#f0f921\"]]}],\"choropleth\":[{\"type\":\"choropleth\",\"colorbar\":{\"outlinewidth\":0,\"ticks\":\"\"}}],\"histogram2d\":[{\"type\":\"histogram2d\",\"colorbar\":{\"outlinewidth\":0,\"ticks\":\"\"},\"colorscale\":[[0.0,\"#0d0887\"],[0.1111111111111111,\"#46039f\"],[0.2222222222222222,\"#7201a8\"],[0.3333333333333333,\"#9c179e\"],[0.4444444444444444,\"#bd3786\"],[0.5555555555555556,\"#d8576b\"],[0.6666666666666666,\"#ed7953\"],[0.7777777777777778,\"#fb9f3a\"],[0.8888888888888888,\"#fdca26\"],[1.0,\"#f0f921\"]]}],\"heatmap\":[{\"type\":\"heatmap\",\"colorbar\":{\"outlinewidth\":0,\"ticks\":\"\"},\"colorscale\":[[0.0,\"#0d0887\"],[0.1111111111111111,\"#46039f\"],[0.2222222222222222,\"#7201a8\"],[0.3333333333333333,\"#9c179e\"],[0.4444444444444444,\"#bd3786\"],[0.5555555555555556,\"#d8576b\"],[0.6666666666666666,\"#ed7953\"],[0.7777777777777778,\"#fb9f3a\"],[0.8888888888888888,\"#fdca26\"],[1.0,\"#f0f921\"]]}],\"heatmapgl\":[{\"type\":\"heatmapgl\",\"colorbar\":{\"outlinewidth\":0,\"ticks\":\"\"},\"colorscale\":[[0.0,\"#0d0887\"],[0.1111111111111111,\"#46039f\"],[0.2222222222222222,\"#7201a8\"],[0.3333333333333333,\"#9c179e\"],[0.4444444444444444,\"#bd3786\"],[0.5555555555555556,\"#d8576b\"],[0.6666666666666666,\"#ed7953\"],[0.7777777777777778,\"#fb9f3a\"],[0.8888888888888888,\"#fdca26\"],[1.0,\"#f0f921\"]]}],\"contourcarpet\":[{\"type\":\"contourcarpet\",\"colorbar\":{\"outlinewidth\":0,\"ticks\":\"\"}}],\"contour\":[{\"type\":\"contour\",\"colorbar\":{\"outlinewidth\":0,\"ticks\":\"\"},\"colorscale\":[[0.0,\"#0d0887\"],[0.1111111111111111,\"#46039f\"],[0.2222222222222222,\"#7201a8\"],[0.3333333333333333,\"#9c179e\"],[0.4444444444444444,\"#bd3786\"],[0.5555555555555556,\"#d8576b\"],[0.6666666666666666,\"#ed7953\"],[0.7777777777777778,\"#fb9f3a\"],[0.8888888888888888,\"#fdca26\"],[1.0,\"#f0f921\"]]}],\"surface\":[{\"type\":\"surface\",\"colorbar\":{\"outlinewidth\":0,\"ticks\":\"\"},\"colorscale\":[[0.0,\"#0d0887\"],[0.1111111111111111,\"#46039f\"],[0.2222222222222222,\"#7201a8\"],[0.3333333333333333,\"#9c179e\"],[0.4444444444444444,\"#bd3786\"],[0.5555555555555556,\"#d8576b\"],[0.6666666666666666,\"#ed7953\"],[0.7777777777777778,\"#fb9f3a\"],[0.8888888888888888,\"#fdca26\"],[1.0,\"#f0f921\"]]}],\"mesh3d\":[{\"type\":\"mesh3d\",\"colorbar\":{\"outlinewidth\":0,\"ticks\":\"\"}}],\"scatter\":[{\"fillpattern\":{\"fillmode\":\"overlay\",\"size\":10,\"solidity\":0.2},\"type\":\"scatter\"}],\"parcoords\":[{\"type\":\"parcoords\",\"line\":{\"colorbar\":{\"outlinewidth\":0,\"ticks\":\"\"}}}],\"scatterpolargl\":[{\"type\":\"scatterpolargl\",\"marker\":{\"colorbar\":{\"outlinewidth\":0,\"ticks\":\"\"}}}],\"bar\":[{\"error_x\":{\"color\":\"#2a3f5f\"},\"error_y\":{\"color\":\"#2a3f5f\"},\"marker\":{\"line\":{\"color\":\"#E5ECF6\",\"width\":0.5},\"pattern\":{\"fillmode\":\"overlay\",\"size\":10,\"solidity\":0.2}},\"type\":\"bar\"}],\"scattergeo\":[{\"type\":\"scattergeo\",\"marker\":{\"colorbar\":{\"outlinewidth\":0,\"ticks\":\"\"}}}],\"scatterpolar\":[{\"type\":\"scatterpolar\",\"marker\":{\"colorbar\":{\"outlinewidth\":0,\"ticks\":\"\"}}}],\"histogram\":[{\"marker\":{\"pattern\":{\"fillmode\":\"overlay\",\"size\":10,\"solidity\":0.2}},\"type\":\"histogram\"}],\"scattergl\":[{\"type\":\"scattergl\",\"marker\":{\"colorbar\":{\"outlinewidth\":0,\"ticks\":\"\"}}}],\"scatter3d\":[{\"type\":\"scatter3d\",\"line\":{\"colorbar\":{\"outlinewidth\":0,\"ticks\":\"\"}},\"marker\":{\"colorbar\":{\"outlinewidth\":0,\"ticks\":\"\"}}}],\"scattermapbox\":[{\"type\":\"scattermapbox\",\"marker\":{\"colorbar\":{\"outlinewidth\":0,\"ticks\":\"\"}}}],\"scatterternary\":[{\"type\":\"scatterternary\",\"marker\":{\"colorbar\":{\"outlinewidth\":0,\"ticks\":\"\"}}}],\"scattercarpet\":[{\"type\":\"scattercarpet\",\"marker\":{\"colorbar\":{\"outlinewidth\":0,\"ticks\":\"\"}}}],\"carpet\":[{\"aaxis\":{\"endlinecolor\":\"#2a3f5f\",\"gridcolor\":\"white\",\"linecolor\":\"white\",\"minorgridcolor\":\"white\",\"startlinecolor\":\"#2a3f5f\"},\"baxis\":{\"endlinecolor\":\"#2a3f5f\",\"gridcolor\":\"white\",\"linecolor\":\"white\",\"minorgridcolor\":\"white\",\"startlinecolor\":\"#2a3f5f\"},\"type\":\"carpet\"}],\"table\":[{\"cells\":{\"fill\":{\"color\":\"#EBF0F8\"},\"line\":{\"color\":\"white\"}},\"header\":{\"fill\":{\"color\":\"#C8D4E3\"},\"line\":{\"color\":\"white\"}},\"type\":\"table\"}],\"barpolar\":[{\"marker\":{\"line\":{\"color\":\"#E5ECF6\",\"width\":0.5},\"pattern\":{\"fillmode\":\"overlay\",\"size\":10,\"solidity\":0.2}},\"type\":\"barpolar\"}],\"pie\":[{\"automargin\":true,\"type\":\"pie\"}]},\"layout\":{\"autotypenumbers\":\"strict\",\"colorway\":[\"#636efa\",\"#EF553B\",\"#00cc96\",\"#ab63fa\",\"#FFA15A\",\"#19d3f3\",\"#FF6692\",\"#B6E880\",\"#FF97FF\",\"#FECB52\"],\"font\":{\"color\":\"#2a3f5f\"},\"hovermode\":\"closest\",\"hoverlabel\":{\"align\":\"left\"},\"paper_bgcolor\":\"white\",\"plot_bgcolor\":\"#E5ECF6\",\"polar\":{\"bgcolor\":\"#E5ECF6\",\"angularaxis\":{\"gridcolor\":\"white\",\"linecolor\":\"white\",\"ticks\":\"\"},\"radialaxis\":{\"gridcolor\":\"white\",\"linecolor\":\"white\",\"ticks\":\"\"}},\"ternary\":{\"bgcolor\":\"#E5ECF6\",\"aaxis\":{\"gridcolor\":\"white\",\"linecolor\":\"white\",\"ticks\":\"\"},\"baxis\":{\"gridcolor\":\"white\",\"linecolor\":\"white\",\"ticks\":\"\"},\"caxis\":{\"gridcolor\":\"white\",\"linecolor\":\"white\",\"ticks\":\"\"}},\"coloraxis\":{\"colorbar\":{\"outlinewidth\":0,\"ticks\":\"\"}},\"colorscale\":{\"sequential\":[[0.0,\"#0d0887\"],[0.1111111111111111,\"#46039f\"],[0.2222222222222222,\"#7201a8\"],[0.3333333333333333,\"#9c179e\"],[0.4444444444444444,\"#bd3786\"],[0.5555555555555556,\"#d8576b\"],[0.6666666666666666,\"#ed7953\"],[0.7777777777777778,\"#fb9f3a\"],[0.8888888888888888,\"#fdca26\"],[1.0,\"#f0f921\"]],\"sequentialminus\":[[0.0,\"#0d0887\"],[0.1111111111111111,\"#46039f\"],[0.2222222222222222,\"#7201a8\"],[0.3333333333333333,\"#9c179e\"],[0.4444444444444444,\"#bd3786\"],[0.5555555555555556,\"#d8576b\"],[0.6666666666666666,\"#ed7953\"],[0.7777777777777778,\"#fb9f3a\"],[0.8888888888888888,\"#fdca26\"],[1.0,\"#f0f921\"]],\"diverging\":[[0,\"#8e0152\"],[0.1,\"#c51b7d\"],[0.2,\"#de77ae\"],[0.3,\"#f1b6da\"],[0.4,\"#fde0ef\"],[0.5,\"#f7f7f7\"],[0.6,\"#e6f5d0\"],[0.7,\"#b8e186\"],[0.8,\"#7fbc41\"],[0.9,\"#4d9221\"],[1,\"#276419\"]]},\"xaxis\":{\"gridcolor\":\"white\",\"linecolor\":\"white\",\"ticks\":\"\",\"title\":{\"standoff\":15},\"zerolinecolor\":\"white\",\"automargin\":true,\"zerolinewidth\":2},\"yaxis\":{\"gridcolor\":\"white\",\"linecolor\":\"white\",\"ticks\":\"\",\"title\":{\"standoff\":15},\"zerolinecolor\":\"white\",\"automargin\":true,\"zerolinewidth\":2},\"scene\":{\"xaxis\":{\"backgroundcolor\":\"#E5ECF6\",\"gridcolor\":\"white\",\"linecolor\":\"white\",\"showbackground\":true,\"ticks\":\"\",\"zerolinecolor\":\"white\",\"gridwidth\":2},\"yaxis\":{\"backgroundcolor\":\"#E5ECF6\",\"gridcolor\":\"white\",\"linecolor\":\"white\",\"showbackground\":true,\"ticks\":\"\",\"zerolinecolor\":\"white\",\"gridwidth\":2},\"zaxis\":{\"backgroundcolor\":\"#E5ECF6\",\"gridcolor\":\"white\",\"linecolor\":\"white\",\"showbackground\":true,\"ticks\":\"\",\"zerolinecolor\":\"white\",\"gridwidth\":2}},\"shapedefaults\":{\"line\":{\"color\":\"#2a3f5f\"}},\"annotationdefaults\":{\"arrowcolor\":\"#2a3f5f\",\"arrowhead\":0,\"arrowwidth\":1},\"geo\":{\"bgcolor\":\"white\",\"landcolor\":\"#E5ECF6\",\"subunitcolor\":\"white\",\"showland\":true,\"showlakes\":true,\"lakecolor\":\"white\"},\"title\":{\"x\":0.05},\"mapbox\":{\"style\":\"light\"}}},\"xaxis\":{\"anchor\":\"y\",\"domain\":[0.0,0.94],\"title\":{\"text\":\"Epoch\"}},\"yaxis\":{\"anchor\":\"x\",\"domain\":[0.0,1.0]},\"yaxis2\":{\"anchor\":\"x\",\"overlaying\":\"y\",\"side\":\"right\"},\"title\":{\"text\":\"Loss/Accuracy of Neural Network Model\"}},                        {\"responsive\": true}                    ).then(function(){\n",
              "                            \n",
              "var gd = document.getElementById('b4d39a22-8575-4dd0-8038-54cfa744ed0e');\n",
              "var x = new MutationObserver(function (mutations, observer) {{\n",
              "        var display = window.getComputedStyle(gd).display;\n",
              "        if (!display || display === 'none') {{\n",
              "            console.log([gd, 'removed!']);\n",
              "            Plotly.purge(gd);\n",
              "            observer.disconnect();\n",
              "        }}\n",
              "}});\n",
              "\n",
              "// Listen for the removal of the full notebook cells\n",
              "var notebookContainer = gd.closest('#notebook-container');\n",
              "if (notebookContainer) {{\n",
              "    x.observe(notebookContainer, {childList: true});\n",
              "}}\n",
              "\n",
              "// Listen for the clearing of the current output cell\n",
              "var outputEl = gd.closest('.output');\n",
              "if (outputEl) {{\n",
              "    x.observe(outputEl, {childList: true});\n",
              "}}\n",
              "\n",
              "                        })                };                            </script>        </div>\n",
              "</body>\n",
              "</html>"
            ]
          },
          "metadata": {}
        }
      ]
    },
    {
      "cell_type": "code",
      "source": [
        "score, acc = model.evaluate(X_test, y_test, batch_size=32, verbose=2)\n",
        "print(\"Accuracy: \", acc)\n",
        "\n",
        "from sklearn.metrics import f1_score, precision_score, recall_score\n",
        "y_pred = model.predict(X_test).astype(int)\n",
        "\n",
        "# Print f1, precision, and recall scores\n",
        "print(precision_score(y_test, y_pred , average=\"macro\"))\n",
        "print(recall_score(y_test, y_pred , average=\"macro\"))\n",
        "print(f1_score(y_test, y_pred , average=\"micro\"))"
      ],
      "metadata": {
        "colab": {
          "base_uri": "https://localhost:8080/"
        },
        "id": "DeVp3oTUvYq8",
        "outputId": "9f473bcf-d85e-4407-ffce-00ef3b8f6aee"
      },
      "execution_count": 134,
      "outputs": [
        {
          "output_type": "stream",
          "name": "stdout",
          "text": [
            "1/1 - 0s - loss: -1.1936e+05 - accuracy: 0.2174 - 53ms/epoch - 53ms/step\n",
            "Accuracy:  0.21739129722118378\n",
            "1/1 [==============================] - 0s 40ms/step\n",
            "0.17105263157894737\n",
            "0.32\n",
            "0.21739130434782608\n"
          ]
        },
        {
          "output_type": "stream",
          "name": "stderr",
          "text": [
            "/usr/local/lib/python3.10/dist-packages/sklearn/metrics/_classification.py:1344: UndefinedMetricWarning:\n",
            "\n",
            "Precision is ill-defined and being set to 0.0 in labels with no predicted samples. Use `zero_division` parameter to control this behavior.\n",
            "\n"
          ]
        }
      ]
    },
    {
      "cell_type": "code",
      "source": [],
      "metadata": {
        "id": "1XwsT-Yzll83"
      },
      "execution_count": null,
      "outputs": []
    }
  ]
}