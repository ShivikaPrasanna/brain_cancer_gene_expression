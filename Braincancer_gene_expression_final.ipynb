{
  "nbformat": 4,
  "nbformat_minor": 0,
  "metadata": {
    "colab": {
      "provenance": [],
      "mount_file_id": "1oSTj3uEtUS_0_QT_3ZKHkvrGZx1UDpJ3",
      "authorship_tag": "ABX9TyMwTXDHDkygcnLG3uHqiB7B",
      "include_colab_link": true
    },
    "kernelspec": {
      "name": "python3",
      "display_name": "Python 3"
    },
    "language_info": {
      "name": "python"
    }
  },
  "cells": [
    {
      "cell_type": "markdown",
      "metadata": {
        "id": "view-in-github",
        "colab_type": "text"
      },
      "source": [
        "<a href=\"https://colab.research.google.com/github/ShivikaPrasanna/brain_cancer_gene_expression/blob/main/Braincancer_gene_expression_final.ipynb\" target=\"_parent\"><img src=\"https://colab.research.google.com/assets/colab-badge.svg\" alt=\"Open In Colab\"/></a>"
      ]
    },
    {
      "cell_type": "code",
      "execution_count": null,
      "metadata": {
        "id": "0T32r8NrV4AS"
      },
      "outputs": [],
      "source": [
        "import pandas as pd\n",
        "import numpy as np\n",
        "\n",
        "from sklearn.model_selection import train_test_split\n",
        "from sklearn.preprocessing import StandardScaler\n",
        "\n",
        "import tensorflow as tf\n",
        "from keras.models import Sequential\n",
        "from keras.layers import Dense\n",
        "\n",
        "# Load the data\n",
        "data = pd.read_csv(\"/content/drive/MyDrive/Colab Notebooks/Datasets/Brain_GSE50161.csv\")\n",
        "\n",
        "cancer_type_dict = {'ependymoma': 0, 'glioblastoma': 1, 'medulloblastoma': 2, 'pilocytic_astrocytoma': 3, 'normal': 4}\n",
        "data['mapped_type'] = data['type'].replace(cancer_type_dict)\n",
        "data.drop('type', axis=1, inplace=True)\n",
        "data['samples'].groupby(data['mapped_type']).count()\n",
        "\n",
        "labels = data.pop('mapped_type')\n",
        "data = data.to_numpy().astype(np.float32)\n",
        "labels = labels.to_numpy().flatten().astype(np.float32)"
      ]
    },
    {
      "cell_type": "code",
      "source": [
        "# Split the data into training and test sets\n",
        "X_train, X_test, y_train, y_test = train_test_split(data, labels, test_size=0.1, random_state=42)\n",
        "\n",
        "# Scale the data\n",
        "scaler = StandardScaler()\n",
        "X_train = scaler.fit_transform(X_train)\n",
        "X_test = scaler.transform(X_test)"
      ],
      "metadata": {
        "id": "6GoTvL8IXY-I"
      },
      "execution_count": null,
      "outputs": []
    },
    {
      "cell_type": "code",
      "source": [
        "# Define the model architecture\n",
        "model = Sequential()\n",
        "model.add(Dense(16, activation='relu', input_dim=X_train.shape[1]))\n",
        "model.add(Dense(8, activation='relu'))\n",
        "model.add(Dense(4, activation='relu'))\n",
        "model.add(Dense(1, activation='sigmoid'))\n",
        "\n",
        "# Compile the model\n",
        "model.compile(loss='binary_crossentropy', optimizer='adam', metrics=['accuracy'])"
      ],
      "metadata": {
        "id": "ySmziL6yWsIS"
      },
      "execution_count": null,
      "outputs": []
    },
    {
      "cell_type": "code",
      "source": [
        "earlyStopping = tf.keras.callbacks.EarlyStopping(monitor='loss', patience=10, verbose=0, mode='min', restore_best_weights=True)\n",
        "mcp_save = tf.keras.callbacks.ModelCheckpoint('my-model-{accuracy:.2f}.hdf5', save_best_only=True, monitor='accuracy', mode='max', verbose=1)\n",
        "reduce_lr_loss = tf.keras.callbacks.ReduceLROnPlateau(monitor='loss', factor=0.1, patience=7, verbose=1, min_delta=1e-4, mode='min')"
      ],
      "metadata": {
        "id": "7nWROoLWYjfE"
      },
      "execution_count": null,
      "outputs": []
    },
    {
      "cell_type": "code",
      "source": [
        "model.summary()"
      ],
      "metadata": {
        "colab": {
          "base_uri": "https://localhost:8080/"
        },
        "id": "jhSU6KkTYllw",
        "outputId": "5d34d8d4-c22e-45fd-ff78-ce329bec6630"
      },
      "execution_count": null,
      "outputs": [
        {
          "output_type": "stream",
          "name": "stdout",
          "text": [
            "Model: \"sequential\"\n",
            "_________________________________________________________________\n",
            " Layer (type)                Output Shape              Param #   \n",
            "=================================================================\n",
            " dense (Dense)               (None, 16)                874832    \n",
            "                                                                 \n",
            " dense_1 (Dense)             (None, 8)                 136       \n",
            "                                                                 \n",
            " dense_2 (Dense)             (None, 4)                 36        \n",
            "                                                                 \n",
            " dense_3 (Dense)             (None, 1)                 5         \n",
            "                                                                 \n",
            "=================================================================\n",
            "Total params: 875,009\n",
            "Trainable params: 875,009\n",
            "Non-trainable params: 0\n",
            "_________________________________________________________________\n"
          ]
        }
      ]
    },
    {
      "cell_type": "code",
      "source": [
        "# Train the model\n",
        "history = model.fit(X_train, y_train, epochs=50, batch_size=16, verbose=2)\n",
        "\n",
        "# Evaluate the model on the test set\n",
        "loss, accuracy = model.evaluate(X_test, y_test, verbose=0)\n",
        "print(f\"Loss: {loss:.4f}, Accuracy: {accuracy*100:.2f}%\")"
      ],
      "metadata": {
        "colab": {
          "base_uri": "https://localhost:8080/"
        },
        "id": "6en0YyzpWOPj",
        "outputId": "fa9fc101-906a-4067-89cc-e3f7cd6759da"
      },
      "execution_count": null,
      "outputs": [
        {
          "output_type": "stream",
          "name": "stdout",
          "text": [
            "Epoch 1/50\n",
            "8/8 - 3s - loss: 1.5653 - accuracy: 0.4615 - 3s/epoch - 378ms/step\n",
            "Epoch 2/50\n",
            "8/8 - 0s - loss: -3.9088e+00 - accuracy: 0.5812 - 284ms/epoch - 36ms/step\n",
            "Epoch 3/50\n",
            "8/8 - 0s - loss: -1.6003e+01 - accuracy: 0.5385 - 338ms/epoch - 42ms/step\n",
            "Epoch 4/50\n",
            "8/8 - 0s - loss: -3.6402e+01 - accuracy: 0.4872 - 284ms/epoch - 35ms/step\n",
            "Epoch 5/50\n",
            "8/8 - 0s - loss: -7.1067e+01 - accuracy: 0.5128 - 321ms/epoch - 40ms/step\n",
            "Epoch 6/50\n",
            "8/8 - 0s - loss: -1.3090e+02 - accuracy: 0.4615 - 274ms/epoch - 34ms/step\n",
            "Epoch 7/50\n",
            "8/8 - 0s - loss: -2.2190e+02 - accuracy: 0.4872 - 287ms/epoch - 36ms/step\n",
            "Epoch 8/50\n",
            "8/8 - 0s - loss: -3.3151e+02 - accuracy: 0.4701 - 260ms/epoch - 32ms/step\n",
            "Epoch 9/50\n",
            "8/8 - 0s - loss: -4.7841e+02 - accuracy: 0.4530 - 395ms/epoch - 49ms/step\n",
            "Epoch 10/50\n",
            "8/8 - 0s - loss: -6.5235e+02 - accuracy: 0.4701 - 271ms/epoch - 34ms/step\n",
            "Epoch 11/50\n",
            "8/8 - 0s - loss: -8.5284e+02 - accuracy: 0.4615 - 278ms/epoch - 35ms/step\n",
            "Epoch 12/50\n",
            "8/8 - 0s - loss: -1.1215e+03 - accuracy: 0.4701 - 386ms/epoch - 48ms/step\n",
            "Epoch 13/50\n",
            "8/8 - 0s - loss: -1.4519e+03 - accuracy: 0.4786 - 414ms/epoch - 52ms/step\n",
            "Epoch 14/50\n",
            "8/8 - 0s - loss: -1.7993e+03 - accuracy: 0.4615 - 313ms/epoch - 39ms/step\n",
            "Epoch 15/50\n",
            "8/8 - 0s - loss: -2.2663e+03 - accuracy: 0.4786 - 320ms/epoch - 40ms/step\n",
            "Epoch 16/50\n",
            "8/8 - 0s - loss: -2.8202e+03 - accuracy: 0.4786 - 254ms/epoch - 32ms/step\n",
            "Epoch 17/50\n",
            "8/8 - 0s - loss: -3.5083e+03 - accuracy: 0.4872 - 216ms/epoch - 27ms/step\n",
            "Epoch 18/50\n",
            "8/8 - 0s - loss: -4.3972e+03 - accuracy: 0.4957 - 218ms/epoch - 27ms/step\n",
            "Epoch 19/50\n",
            "8/8 - 0s - loss: -5.3176e+03 - accuracy: 0.4786 - 318ms/epoch - 40ms/step\n",
            "Epoch 20/50\n",
            "8/8 - 0s - loss: -6.3444e+03 - accuracy: 0.5043 - 307ms/epoch - 38ms/step\n",
            "Epoch 21/50\n",
            "8/8 - 0s - loss: -7.6486e+03 - accuracy: 0.4957 - 276ms/epoch - 34ms/step\n",
            "Epoch 22/50\n",
            "8/8 - 0s - loss: -8.8618e+03 - accuracy: 0.4957 - 222ms/epoch - 28ms/step\n",
            "Epoch 23/50\n",
            "8/8 - 0s - loss: -1.0472e+04 - accuracy: 0.4957 - 235ms/epoch - 29ms/step\n",
            "Epoch 24/50\n",
            "8/8 - 0s - loss: -1.2154e+04 - accuracy: 0.4957 - 192ms/epoch - 24ms/step\n",
            "Epoch 25/50\n",
            "8/8 - 0s - loss: -1.4138e+04 - accuracy: 0.5043 - 213ms/epoch - 27ms/step\n",
            "Epoch 26/50\n",
            "8/8 - 0s - loss: -1.6063e+04 - accuracy: 0.5299 - 246ms/epoch - 31ms/step\n",
            "Epoch 27/50\n",
            "8/8 - 0s - loss: -1.8816e+04 - accuracy: 0.5470 - 220ms/epoch - 27ms/step\n",
            "Epoch 28/50\n",
            "8/8 - 0s - loss: -2.1209e+04 - accuracy: 0.5385 - 239ms/epoch - 30ms/step\n",
            "Epoch 29/50\n",
            "8/8 - 0s - loss: -2.4201e+04 - accuracy: 0.5556 - 364ms/epoch - 46ms/step\n",
            "Epoch 30/50\n",
            "8/8 - 0s - loss: -2.7481e+04 - accuracy: 0.5470 - 352ms/epoch - 44ms/step\n",
            "Epoch 31/50\n",
            "8/8 - 0s - loss: -3.0582e+04 - accuracy: 0.5299 - 327ms/epoch - 41ms/step\n",
            "Epoch 32/50\n",
            "8/8 - 0s - loss: -3.4509e+04 - accuracy: 0.5641 - 317ms/epoch - 40ms/step\n",
            "Epoch 33/50\n",
            "8/8 - 0s - loss: -3.8534e+04 - accuracy: 0.5470 - 314ms/epoch - 39ms/step\n",
            "Epoch 34/50\n",
            "8/8 - 0s - loss: -4.3212e+04 - accuracy: 0.5299 - 326ms/epoch - 41ms/step\n",
            "Epoch 35/50\n",
            "8/8 - 0s - loss: -4.7943e+04 - accuracy: 0.5385 - 352ms/epoch - 44ms/step\n",
            "Epoch 36/50\n",
            "8/8 - 0s - loss: -5.3212e+04 - accuracy: 0.5470 - 282ms/epoch - 35ms/step\n",
            "Epoch 37/50\n",
            "8/8 - 0s - loss: -5.8621e+04 - accuracy: 0.5470 - 216ms/epoch - 27ms/step\n",
            "Epoch 38/50\n",
            "8/8 - 0s - loss: -6.4312e+04 - accuracy: 0.5470 - 234ms/epoch - 29ms/step\n",
            "Epoch 39/50\n",
            "8/8 - 0s - loss: -7.0469e+04 - accuracy: 0.5299 - 327ms/epoch - 41ms/step\n",
            "Epoch 40/50\n",
            "8/8 - 0s - loss: -7.6378e+04 - accuracy: 0.5470 - 280ms/epoch - 35ms/step\n",
            "Epoch 41/50\n",
            "8/8 - 0s - loss: -8.5150e+04 - accuracy: 0.5214 - 232ms/epoch - 29ms/step\n",
            "Epoch 42/50\n",
            "8/8 - 0s - loss: -9.1901e+04 - accuracy: 0.5641 - 281ms/epoch - 35ms/step\n",
            "Epoch 43/50\n",
            "8/8 - 0s - loss: -1.0093e+05 - accuracy: 0.5470 - 272ms/epoch - 34ms/step\n",
            "Epoch 44/50\n",
            "8/8 - 0s - loss: -1.0932e+05 - accuracy: 0.5385 - 307ms/epoch - 38ms/step\n",
            "Epoch 45/50\n",
            "8/8 - 0s - loss: -1.1782e+05 - accuracy: 0.5470 - 307ms/epoch - 38ms/step\n",
            "Epoch 46/50\n",
            "8/8 - 0s - loss: -1.2848e+05 - accuracy: 0.5556 - 228ms/epoch - 28ms/step\n",
            "Epoch 47/50\n",
            "8/8 - 0s - loss: -1.3815e+05 - accuracy: 0.5556 - 226ms/epoch - 28ms/step\n",
            "Epoch 48/50\n",
            "8/8 - 0s - loss: -1.4920e+05 - accuracy: 0.5470 - 222ms/epoch - 28ms/step\n",
            "Epoch 49/50\n",
            "8/8 - 0s - loss: -1.5971e+05 - accuracy: 0.5641 - 228ms/epoch - 29ms/step\n",
            "Epoch 50/50\n",
            "8/8 - 0s - loss: -1.7295e+05 - accuracy: 0.5726 - 328ms/epoch - 41ms/step\n",
            "Loss: -131987.0938, Accuracy: 61.54%\n"
          ]
        }
      ]
    },
    {
      "cell_type": "code",
      "source": [
        "import plotly.graph_objects as go\n",
        "from plotly.subplots import make_subplots\n",
        "\n",
        "# Create figure with secondary y-axis\n",
        "fig = make_subplots(specs=[[{\"secondary_y\": True}]])\n",
        "\n",
        "fig.add_trace(\n",
        "    go.Scatter( y=history.history['loss'], name=\"loss\"),\n",
        "    secondary_y=False,\n",
        ")\n",
        "\n",
        "fig.add_trace(\n",
        "    go.Scatter( y=history.history['accuracy'], name=\"train accuracy\"),\n",
        "    secondary_y=True,\n",
        ")\n",
        "\n",
        "# Add figure title\n",
        "fig.update_layout(\n",
        "    title_text=\"Loss/Accuracy of Neural Network Model\"\n",
        ")\n",
        "\n",
        "# Set x-axis title\n",
        "fig.update_xaxes(title_text=\"Epoch\")"
      ],
      "metadata": {
        "colab": {
          "base_uri": "https://localhost:8080/",
          "height": 542
        },
        "id": "ewHriD8sWkPz",
        "outputId": "ec4330e4-0fc6-46c5-da7c-787cec5ea948"
      },
      "execution_count": null,
      "outputs": [
        {
          "output_type": "display_data",
          "data": {
            "text/html": [
              "<html>\n",
              "<head><meta charset=\"utf-8\" /></head>\n",
              "<body>\n",
              "    <div>            <script src=\"https://cdnjs.cloudflare.com/ajax/libs/mathjax/2.7.5/MathJax.js?config=TeX-AMS-MML_SVG\"></script><script type=\"text/javascript\">if (window.MathJax && window.MathJax.Hub && window.MathJax.Hub.Config) {window.MathJax.Hub.Config({SVG: {font: \"STIX-Web\"}});}</script>                <script type=\"text/javascript\">window.PlotlyConfig = {MathJaxConfig: 'local'};</script>\n",
              "        <script src=\"https://cdn.plot.ly/plotly-2.18.2.min.js\"></script>                <div id=\"47c0f844-1bf4-4a79-9a54-c60f39cf859d\" class=\"plotly-graph-div\" style=\"height:525px; width:100%;\"></div>            <script type=\"text/javascript\">                                    window.PLOTLYENV=window.PLOTLYENV || {};                                    if (document.getElementById(\"47c0f844-1bf4-4a79-9a54-c60f39cf859d\")) {                    Plotly.newPlot(                        \"47c0f844-1bf4-4a79-9a54-c60f39cf859d\",                        [{\"name\":\"loss\",\"y\":[1.5652546882629395,-3.908802032470703,-16.002628326416016,-36.40157699584961,-71.06690979003906,-130.90475463867188,-221.89703369140625,-331.5115966796875,-478.4087829589844,-652.351806640625,-852.8389892578125,-1121.54833984375,-1451.86669921875,-1799.32958984375,-2266.29443359375,-2820.161376953125,-3508.251708984375,-4397.19873046875,-5317.591796875,-6344.3603515625,-7648.5986328125,-8861.80859375,-10471.8662109375,-12153.8720703125,-14138.271484375,-16063.25,-18816.248046875,-21209.091796875,-24201.3828125,-27480.96484375,-30581.962890625,-34509.35546875,-38533.87109375,-43212.3515625,-47943.19921875,-53212.5,-58620.87890625,-64312.3671875,-70469.2890625,-76378.0546875,-85149.8515625,-91900.8359375,-100932.1484375,-109318.5078125,-117821.109375,-128484.734375,-138151.28125,-149199.03125,-159705.0625,-172949.640625],\"type\":\"scatter\",\"xaxis\":\"x\",\"yaxis\":\"y\"},{\"name\":\"train accuracy\",\"y\":[0.4615384638309479,0.5811966061592102,0.5384615659713745,0.4871794879436493,0.5128205418586731,0.4615384638309479,0.4871794879436493,0.470085471868515,0.45299145579338074,0.470085471868515,0.4615384638309479,0.470085471868515,0.47863247990608215,0.4615384638309479,0.47863247990608215,0.47863247990608215,0.4871794879436493,0.49572649598121643,0.47863247990608215,0.504273533821106,0.49572649598121643,0.49572649598121643,0.49572649598121643,0.49572649598121643,0.504273533821106,0.5299145579338074,0.5470085740089417,0.5384615659713745,0.5555555820465088,0.5470085740089417,0.5299145579338074,0.5641025900840759,0.5470085740089417,0.5299145579338074,0.5384615659713745,0.5470085740089417,0.5470085740089417,0.5470085740089417,0.5299145579338074,0.5470085740089417,0.5213675498962402,0.5641025900840759,0.5470085740089417,0.5384615659713745,0.5470085740089417,0.5555555820465088,0.5555555820465088,0.5470085740089417,0.5641025900840759,0.5726495981216431],\"type\":\"scatter\",\"xaxis\":\"x\",\"yaxis\":\"y2\"}],                        {\"template\":{\"data\":{\"histogram2dcontour\":[{\"type\":\"histogram2dcontour\",\"colorbar\":{\"outlinewidth\":0,\"ticks\":\"\"},\"colorscale\":[[0.0,\"#0d0887\"],[0.1111111111111111,\"#46039f\"],[0.2222222222222222,\"#7201a8\"],[0.3333333333333333,\"#9c179e\"],[0.4444444444444444,\"#bd3786\"],[0.5555555555555556,\"#d8576b\"],[0.6666666666666666,\"#ed7953\"],[0.7777777777777778,\"#fb9f3a\"],[0.8888888888888888,\"#fdca26\"],[1.0,\"#f0f921\"]]}],\"choropleth\":[{\"type\":\"choropleth\",\"colorbar\":{\"outlinewidth\":0,\"ticks\":\"\"}}],\"histogram2d\":[{\"type\":\"histogram2d\",\"colorbar\":{\"outlinewidth\":0,\"ticks\":\"\"},\"colorscale\":[[0.0,\"#0d0887\"],[0.1111111111111111,\"#46039f\"],[0.2222222222222222,\"#7201a8\"],[0.3333333333333333,\"#9c179e\"],[0.4444444444444444,\"#bd3786\"],[0.5555555555555556,\"#d8576b\"],[0.6666666666666666,\"#ed7953\"],[0.7777777777777778,\"#fb9f3a\"],[0.8888888888888888,\"#fdca26\"],[1.0,\"#f0f921\"]]}],\"heatmap\":[{\"type\":\"heatmap\",\"colorbar\":{\"outlinewidth\":0,\"ticks\":\"\"},\"colorscale\":[[0.0,\"#0d0887\"],[0.1111111111111111,\"#46039f\"],[0.2222222222222222,\"#7201a8\"],[0.3333333333333333,\"#9c179e\"],[0.4444444444444444,\"#bd3786\"],[0.5555555555555556,\"#d8576b\"],[0.6666666666666666,\"#ed7953\"],[0.7777777777777778,\"#fb9f3a\"],[0.8888888888888888,\"#fdca26\"],[1.0,\"#f0f921\"]]}],\"heatmapgl\":[{\"type\":\"heatmapgl\",\"colorbar\":{\"outlinewidth\":0,\"ticks\":\"\"},\"colorscale\":[[0.0,\"#0d0887\"],[0.1111111111111111,\"#46039f\"],[0.2222222222222222,\"#7201a8\"],[0.3333333333333333,\"#9c179e\"],[0.4444444444444444,\"#bd3786\"],[0.5555555555555556,\"#d8576b\"],[0.6666666666666666,\"#ed7953\"],[0.7777777777777778,\"#fb9f3a\"],[0.8888888888888888,\"#fdca26\"],[1.0,\"#f0f921\"]]}],\"contourcarpet\":[{\"type\":\"contourcarpet\",\"colorbar\":{\"outlinewidth\":0,\"ticks\":\"\"}}],\"contour\":[{\"type\":\"contour\",\"colorbar\":{\"outlinewidth\":0,\"ticks\":\"\"},\"colorscale\":[[0.0,\"#0d0887\"],[0.1111111111111111,\"#46039f\"],[0.2222222222222222,\"#7201a8\"],[0.3333333333333333,\"#9c179e\"],[0.4444444444444444,\"#bd3786\"],[0.5555555555555556,\"#d8576b\"],[0.6666666666666666,\"#ed7953\"],[0.7777777777777778,\"#fb9f3a\"],[0.8888888888888888,\"#fdca26\"],[1.0,\"#f0f921\"]]}],\"surface\":[{\"type\":\"surface\",\"colorbar\":{\"outlinewidth\":0,\"ticks\":\"\"},\"colorscale\":[[0.0,\"#0d0887\"],[0.1111111111111111,\"#46039f\"],[0.2222222222222222,\"#7201a8\"],[0.3333333333333333,\"#9c179e\"],[0.4444444444444444,\"#bd3786\"],[0.5555555555555556,\"#d8576b\"],[0.6666666666666666,\"#ed7953\"],[0.7777777777777778,\"#fb9f3a\"],[0.8888888888888888,\"#fdca26\"],[1.0,\"#f0f921\"]]}],\"mesh3d\":[{\"type\":\"mesh3d\",\"colorbar\":{\"outlinewidth\":0,\"ticks\":\"\"}}],\"scatter\":[{\"fillpattern\":{\"fillmode\":\"overlay\",\"size\":10,\"solidity\":0.2},\"type\":\"scatter\"}],\"parcoords\":[{\"type\":\"parcoords\",\"line\":{\"colorbar\":{\"outlinewidth\":0,\"ticks\":\"\"}}}],\"scatterpolargl\":[{\"type\":\"scatterpolargl\",\"marker\":{\"colorbar\":{\"outlinewidth\":0,\"ticks\":\"\"}}}],\"bar\":[{\"error_x\":{\"color\":\"#2a3f5f\"},\"error_y\":{\"color\":\"#2a3f5f\"},\"marker\":{\"line\":{\"color\":\"#E5ECF6\",\"width\":0.5},\"pattern\":{\"fillmode\":\"overlay\",\"size\":10,\"solidity\":0.2}},\"type\":\"bar\"}],\"scattergeo\":[{\"type\":\"scattergeo\",\"marker\":{\"colorbar\":{\"outlinewidth\":0,\"ticks\":\"\"}}}],\"scatterpolar\":[{\"type\":\"scatterpolar\",\"marker\":{\"colorbar\":{\"outlinewidth\":0,\"ticks\":\"\"}}}],\"histogram\":[{\"marker\":{\"pattern\":{\"fillmode\":\"overlay\",\"size\":10,\"solidity\":0.2}},\"type\":\"histogram\"}],\"scattergl\":[{\"type\":\"scattergl\",\"marker\":{\"colorbar\":{\"outlinewidth\":0,\"ticks\":\"\"}}}],\"scatter3d\":[{\"type\":\"scatter3d\",\"line\":{\"colorbar\":{\"outlinewidth\":0,\"ticks\":\"\"}},\"marker\":{\"colorbar\":{\"outlinewidth\":0,\"ticks\":\"\"}}}],\"scattermapbox\":[{\"type\":\"scattermapbox\",\"marker\":{\"colorbar\":{\"outlinewidth\":0,\"ticks\":\"\"}}}],\"scatterternary\":[{\"type\":\"scatterternary\",\"marker\":{\"colorbar\":{\"outlinewidth\":0,\"ticks\":\"\"}}}],\"scattercarpet\":[{\"type\":\"scattercarpet\",\"marker\":{\"colorbar\":{\"outlinewidth\":0,\"ticks\":\"\"}}}],\"carpet\":[{\"aaxis\":{\"endlinecolor\":\"#2a3f5f\",\"gridcolor\":\"white\",\"linecolor\":\"white\",\"minorgridcolor\":\"white\",\"startlinecolor\":\"#2a3f5f\"},\"baxis\":{\"endlinecolor\":\"#2a3f5f\",\"gridcolor\":\"white\",\"linecolor\":\"white\",\"minorgridcolor\":\"white\",\"startlinecolor\":\"#2a3f5f\"},\"type\":\"carpet\"}],\"table\":[{\"cells\":{\"fill\":{\"color\":\"#EBF0F8\"},\"line\":{\"color\":\"white\"}},\"header\":{\"fill\":{\"color\":\"#C8D4E3\"},\"line\":{\"color\":\"white\"}},\"type\":\"table\"}],\"barpolar\":[{\"marker\":{\"line\":{\"color\":\"#E5ECF6\",\"width\":0.5},\"pattern\":{\"fillmode\":\"overlay\",\"size\":10,\"solidity\":0.2}},\"type\":\"barpolar\"}],\"pie\":[{\"automargin\":true,\"type\":\"pie\"}]},\"layout\":{\"autotypenumbers\":\"strict\",\"colorway\":[\"#636efa\",\"#EF553B\",\"#00cc96\",\"#ab63fa\",\"#FFA15A\",\"#19d3f3\",\"#FF6692\",\"#B6E880\",\"#FF97FF\",\"#FECB52\"],\"font\":{\"color\":\"#2a3f5f\"},\"hovermode\":\"closest\",\"hoverlabel\":{\"align\":\"left\"},\"paper_bgcolor\":\"white\",\"plot_bgcolor\":\"#E5ECF6\",\"polar\":{\"bgcolor\":\"#E5ECF6\",\"angularaxis\":{\"gridcolor\":\"white\",\"linecolor\":\"white\",\"ticks\":\"\"},\"radialaxis\":{\"gridcolor\":\"white\",\"linecolor\":\"white\",\"ticks\":\"\"}},\"ternary\":{\"bgcolor\":\"#E5ECF6\",\"aaxis\":{\"gridcolor\":\"white\",\"linecolor\":\"white\",\"ticks\":\"\"},\"baxis\":{\"gridcolor\":\"white\",\"linecolor\":\"white\",\"ticks\":\"\"},\"caxis\":{\"gridcolor\":\"white\",\"linecolor\":\"white\",\"ticks\":\"\"}},\"coloraxis\":{\"colorbar\":{\"outlinewidth\":0,\"ticks\":\"\"}},\"colorscale\":{\"sequential\":[[0.0,\"#0d0887\"],[0.1111111111111111,\"#46039f\"],[0.2222222222222222,\"#7201a8\"],[0.3333333333333333,\"#9c179e\"],[0.4444444444444444,\"#bd3786\"],[0.5555555555555556,\"#d8576b\"],[0.6666666666666666,\"#ed7953\"],[0.7777777777777778,\"#fb9f3a\"],[0.8888888888888888,\"#fdca26\"],[1.0,\"#f0f921\"]],\"sequentialminus\":[[0.0,\"#0d0887\"],[0.1111111111111111,\"#46039f\"],[0.2222222222222222,\"#7201a8\"],[0.3333333333333333,\"#9c179e\"],[0.4444444444444444,\"#bd3786\"],[0.5555555555555556,\"#d8576b\"],[0.6666666666666666,\"#ed7953\"],[0.7777777777777778,\"#fb9f3a\"],[0.8888888888888888,\"#fdca26\"],[1.0,\"#f0f921\"]],\"diverging\":[[0,\"#8e0152\"],[0.1,\"#c51b7d\"],[0.2,\"#de77ae\"],[0.3,\"#f1b6da\"],[0.4,\"#fde0ef\"],[0.5,\"#f7f7f7\"],[0.6,\"#e6f5d0\"],[0.7,\"#b8e186\"],[0.8,\"#7fbc41\"],[0.9,\"#4d9221\"],[1,\"#276419\"]]},\"xaxis\":{\"gridcolor\":\"white\",\"linecolor\":\"white\",\"ticks\":\"\",\"title\":{\"standoff\":15},\"zerolinecolor\":\"white\",\"automargin\":true,\"zerolinewidth\":2},\"yaxis\":{\"gridcolor\":\"white\",\"linecolor\":\"white\",\"ticks\":\"\",\"title\":{\"standoff\":15},\"zerolinecolor\":\"white\",\"automargin\":true,\"zerolinewidth\":2},\"scene\":{\"xaxis\":{\"backgroundcolor\":\"#E5ECF6\",\"gridcolor\":\"white\",\"linecolor\":\"white\",\"showbackground\":true,\"ticks\":\"\",\"zerolinecolor\":\"white\",\"gridwidth\":2},\"yaxis\":{\"backgroundcolor\":\"#E5ECF6\",\"gridcolor\":\"white\",\"linecolor\":\"white\",\"showbackground\":true,\"ticks\":\"\",\"zerolinecolor\":\"white\",\"gridwidth\":2},\"zaxis\":{\"backgroundcolor\":\"#E5ECF6\",\"gridcolor\":\"white\",\"linecolor\":\"white\",\"showbackground\":true,\"ticks\":\"\",\"zerolinecolor\":\"white\",\"gridwidth\":2}},\"shapedefaults\":{\"line\":{\"color\":\"#2a3f5f\"}},\"annotationdefaults\":{\"arrowcolor\":\"#2a3f5f\",\"arrowhead\":0,\"arrowwidth\":1},\"geo\":{\"bgcolor\":\"white\",\"landcolor\":\"#E5ECF6\",\"subunitcolor\":\"white\",\"showland\":true,\"showlakes\":true,\"lakecolor\":\"white\"},\"title\":{\"x\":0.05},\"mapbox\":{\"style\":\"light\"}}},\"xaxis\":{\"anchor\":\"y\",\"domain\":[0.0,0.94],\"title\":{\"text\":\"Epoch\"}},\"yaxis\":{\"anchor\":\"x\",\"domain\":[0.0,1.0]},\"yaxis2\":{\"anchor\":\"x\",\"overlaying\":\"y\",\"side\":\"right\"},\"title\":{\"text\":\"Loss/Accuracy of Neural Network Model\"}},                        {\"responsive\": true}                    ).then(function(){\n",
              "                            \n",
              "var gd = document.getElementById('47c0f844-1bf4-4a79-9a54-c60f39cf859d');\n",
              "var x = new MutationObserver(function (mutations, observer) {{\n",
              "        var display = window.getComputedStyle(gd).display;\n",
              "        if (!display || display === 'none') {{\n",
              "            console.log([gd, 'removed!']);\n",
              "            Plotly.purge(gd);\n",
              "            observer.disconnect();\n",
              "        }}\n",
              "}});\n",
              "\n",
              "// Listen for the removal of the full notebook cells\n",
              "var notebookContainer = gd.closest('#notebook-container');\n",
              "if (notebookContainer) {{\n",
              "    x.observe(notebookContainer, {childList: true});\n",
              "}}\n",
              "\n",
              "// Listen for the clearing of the current output cell\n",
              "var outputEl = gd.closest('.output');\n",
              "if (outputEl) {{\n",
              "    x.observe(outputEl, {childList: true});\n",
              "}}\n",
              "\n",
              "                        })                };                            </script>        </div>\n",
              "</body>\n",
              "</html>"
            ]
          },
          "metadata": {}
        }
      ]
    },
    {
      "cell_type": "code",
      "source": [
        "score, acc = model.evaluate(X_test, y_test, batch_size=32, verbose=2)\n",
        "print(\"Accuracy: \", acc)"
      ],
      "metadata": {
        "id": "skAGmk2QXky0",
        "colab": {
          "base_uri": "https://localhost:8080/"
        },
        "outputId": "bea537cc-291f-429a-9cfb-85ae9948b4dd"
      },
      "execution_count": null,
      "outputs": [
        {
          "output_type": "stream",
          "name": "stdout",
          "text": [
            "1/1 - 0s - loss: -1.3199e+05 - accuracy: 0.6154 - 99ms/epoch - 99ms/step\n",
            "Accuracy:  0.6153846383094788\n"
          ]
        }
      ]
    },
    {
      "cell_type": "code",
      "source": [],
      "metadata": {
        "id": "I-VOqv0CdPQW"
      },
      "execution_count": null,
      "outputs": []
    }
  ]
}